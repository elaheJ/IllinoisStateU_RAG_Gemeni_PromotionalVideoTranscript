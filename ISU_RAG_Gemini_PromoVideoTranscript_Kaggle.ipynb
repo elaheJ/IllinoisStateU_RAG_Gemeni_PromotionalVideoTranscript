{
  "nbformat": 4,
  "nbformat_minor": 0,
  "metadata": {
    "colab": {
      "provenance": [],
      "mount_file_id": "1Zs_rBEl98Ba0vjK8yZkU2u7Z3NgO_-ZU",
      "authorship_tag": "ABX9TyOkCD8Q6vxrbRp5YFN1Px6J",
      "include_colab_link": true
    },
    "kernelspec": {
      "name": "python3",
      "display_name": "Python 3"
    },
    "language_info": {
      "name": "python"
    }
  },
  "cells": [
    {
      "cell_type": "markdown",
      "metadata": {
        "id": "view-in-github",
        "colab_type": "text"
      },
      "source": [
        "<a href=\"https://colab.research.google.com/github/elaheJ/IllinoisStateU_RAG_Gemeni_PromotionalVideoTranscript/blob/main/ISUSimpleCrawler_Kaggle.ipynb\" target=\"_parent\"><img src=\"https://colab.research.google.com/assets/colab-badge.svg\" alt=\"Open In Colab\"/></a>"
      ]
    },
    {
      "cell_type": "code",
      "source": [
        "import os\n",
        "import google.generativeai as genai\n",
        "from google.generativeai import caching\n",
        "import datetime\n",
        "import time"
      ],
      "metadata": {
        "id": "JiewBLNdBKmU"
      },
      "execution_count": 5,
      "outputs": []
    },
    {
      "cell_type": "code",
      "source": [
        "from google.colab import userdata\n",
        "secret_value_0 = userdata.get(\"GOOGLE_API_KEY\")"
      ],
      "metadata": {
        "id": "cDReznZ3BODp"
      },
      "execution_count": 3,
      "outputs": []
    },
    {
      "cell_type": "code",
      "source": [
        "genai.configure(api_key=secret_value_0)"
      ],
      "metadata": {
        "id": "YNfWthp0CgDT"
      },
      "execution_count": 6,
      "outputs": []
    },
    {
      "cell_type": "code",
      "source": [
        "path_your_file = \"/content/ISU-data-part1.txt\"\n",
        "text_file = genai.upload_file(path=path_your_file)\n",
        "while text_file.state.name == 'PROCESSING':\n",
        "  print('Waiting for text file to be processed.')\n",
        "  time.sleep(2)\n",
        "  text_file = genai.get_file(text_file.name)\n",
        "\n",
        "print(f'Text processing complete: {text_file.uri}')"
      ],
      "metadata": {
        "colab": {
          "base_uri": "https://localhost:8080/",
          "height": 54
        },
        "id": "O9AmdIohhbbj",
        "outputId": "c60539c4-7c74-4e4b-c499-bb91fb8cf7ce"
      },
      "execution_count": 20,
      "outputs": [
        {
          "output_type": "stream",
          "name": "stdout",
          "text": [
            "Text processing complete: https://generativelanguage.googleapis.com/v1beta/files/u0mdzcere2rk\n"
          ]
        }
      ]
    },
    {
      "cell_type": "code",
      "source": [
        "cache = caching.CachedContent.create(\n",
        "    model='models/gemini-1.5-flash-001',\n",
        "    display_name='openapi_documentation', # used to identify the cache\n",
        "    system_instruction=(\n",
        "        'You are a master of documentation analysis, and your job is to answer '\n",
        "        'the user\\'s query based on the documentaton text file you have access to.'\n",
        "    ),\n",
        "    contents=[text_file],\n",
        "    ttl=datetime.timedelta(minutes=5),\n",
        ")"
      ],
      "metadata": {
        "id": "c8v6QEEjE64L"
      },
      "execution_count": 21,
      "outputs": []
    },
    {
      "cell_type": "code",
      "source": [
        "model = genai.GenerativeModel.from_cached_content(cached_content=cache)"
      ],
      "metadata": {
        "id": "hgi0S59QFC-a"
      },
      "execution_count": 17,
      "outputs": []
    },
    {
      "cell_type": "code",
      "source": [
        "response = model.generate_content([(\n",
        "    \"You are responsible for creating the text for a promotional Illinois Studio publcitity video\"\n",
        "                  \"show case some of top programs\"\n",
        "                \"mention values and strategies that enticing to prospective students\"\n",
        "                \"share example courses\"\n",
        "                \"mention some important on-campus student activities\")])\n",
        "print(response.usage_metadata)"
      ],
      "metadata": {
        "colab": {
          "base_uri": "https://localhost:8080/",
          "height": 104
        },
        "id": "7qT9HrJUE2OW",
        "outputId": "c527c649-2379-4cb7-f435-b0def861b094"
      },
      "execution_count": 18,
      "outputs": [
        {
          "output_type": "stream",
          "name": "stdout",
          "text": [
            "prompt_token_count: 915244\n",
            "cached_content_token_count: 915199\n",
            "candidates_token_count: 726\n",
            "total_token_count: 915970\n",
            "\n"
          ]
        }
      ]
    },
    {
      "cell_type": "code",
      "source": [
        "print(response.text)"
      ],
      "metadata": {
        "colab": {
          "base_uri": "https://localhost:8080/"
        },
        "id": "MSsT7OgWFkkj",
        "outputId": "57b9070c-d2fb-43a0-f474-7ff4e932f3c9"
      },
      "execution_count": 19,
      "outputs": [
        {
          "output_type": "stream",
          "name": "stdout",
          "text": [
            "##  Illinois State University: Where Your Future Takes Flight\n",
            "\n",
            "**(Opening shot: Dynamic montage of diverse students engaged in various activities on campus, including academics, athletics, arts, and community involvement.)**\n",
            "\n",
            "**Voiceover:**  Looking for a university that's more than just a degree?  Illinois State is where ambition meets opportunity.  We're a community built on **passion, progress, and purpose**, where you'll find your voice, ignite your passions, and launch your future.\n",
            "\n",
            "**(Transition to a student in a lab coat conducting an experiment in a high-tech lab.)**\n",
            "\n",
            "**Voiceover:**  At Illinois State, you'll be surrounded by **cutting-edge research** and **dedicated faculty** who are passionate about sharing their knowledge.  Our **STEM programs**, like **Biochemistry**, **Computer Science**, and **Engineering**, are renowned for their rigor and real-world application.  **(Show students working on research projects, interacting with faculty.)** \n",
            "\n",
            "**(Transition to a student playing a musical instrument in a concert hall.)**\n",
            "\n",
            "**Voiceover:**  But learning isn't just about the sciences.  Illinois State is home to the **Wonsook Kim College of Fine Arts**, offering top-tier programs in **Music**, **Theatre**, and **Dance**  **(Show students participating in a musical performance, a theatrical production, a dance recital.)**\n",
            "\n",
            "**(Transition to a student working in a classroom with a teacher and other students.)**\n",
            "\n",
            "**Voiceover:**  We believe education is a journey, not a destination.  Our **Teacher Education programs**, like **Elementary Education**, **Special Education**, and **Secondary Education**, are built on a foundation of **inclusive learning** and **realizing the democratic ideal**.  **(Show students teaching in classrooms, working with young children, and engaging in community outreach.)**\n",
            "\n",
            "**(Transition to a student athlete playing a sport on a well-maintained field.)**\n",
            "\n",
            "**Voiceover:**  And beyond the classroom, Illinois State is a place where **Redbird spirit** takes flight.  **(Show students cheering at a game, participating in a sport club, and celebrating a victory.)**  We're a **Division I** athletic powerhouse, with nine national championships and a dedicated fan base.  **(Highlight different sports and student athletes in action.)**\n",
            "\n",
            "**(Transition to a student leading a group in a meeting room.)**\n",
            "\n",
            "**Voiceover:**  We foster a **vibrant campus community** with **over 400 student organizations**, from cultural groups to leadership societies.  **(Show students in various student organizations, engaging in service projects, and celebrating diversity.)** You'll find your place and **connect with your passions** here.  **(Students laughing and interacting in a social setting.)**\n",
            "\n",
            "**(Transition to a student graduating and walking across the stage, receiving a diploma.)**\n",
            "\n",
            "**Voiceover:**  Illinois State University. Where ambition takes flight.  **(Final shot: Redbird logo with the University's website address.)**\n",
            "\n",
            "**Call to action:**  Ready to soar? Visit our website to explore your future at Illinois State. \n",
            "\n",
            "**Closing shot:  A student walking across the iconic Quad, looking ahead with a hopeful expression.)**\n",
            "\n",
            "**Remember:** This is just an example. You can tailor the script to your specific video needs and target audience, incorporating more specific program details, exciting course examples, and compelling student stories.  Don't forget to showcase the beauty of the campus and the energy of the Redbird community. \n",
            "\n"
          ]
        }
      ]
    }
  ]
}
